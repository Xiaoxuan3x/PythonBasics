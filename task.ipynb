{
 "cells": [
  {
   "cell_type": "code",
   "execution_count": null,
   "metadata": {},
   "outputs": [],
   "source": [
    "timetable=1\n",
    "for i in range(1,13):\n",
    "    print(f'{i}x{timetable}={i*timetable}')"
   ]
  },
  {
   "cell_type": "code",
   "execution_count": null,
   "metadata": {},
   "outputs": [],
   "source": [
    "#integer division\n",
    "17//5\n",
    "#modulus\n",
    "17%5"
   ]
  },
  {
   "cell_type": "code",
   "execution_count": null,
   "metadata": {},
   "outputs": [],
   "source": [
    "guess=''\n",
    "while guess !='Ruk':\n",
    "    guess=input('guess my name')\n",
    "    print('correct')\n",
    "\n"
   ]
  },
  {
   "cell_type": "code",
   "execution_count": null,
   "metadata": {},
   "outputs": [],
   "source": [
    "while True:\n",
    "    guess=input('guess my name')\n",
    "    if guess=='Ruk':\n",
    "        print('correct')\n",
    "        break\n",
    "    print('wrong')"
   ]
  },
  {
   "cell_type": "code",
   "execution_count": null,
   "metadata": {},
   "outputs": [],
   "source": [
    "while True:\n",
    "    guess=input('guess my name')\n",
    "    if guess!='Ruk':\n",
    "        print('wrong')\n",
    "        continue\n",
    "    print('correct')\n",
    "    break\n",
    "\n"
   ]
  },
  {
   "cell_type": "code",
   "execution_count": 24,
   "metadata": {},
   "outputs": [],
   "source": [
    "#Task1\n",
    "total=0\n",
    "while True:\n",
    "    number=int(input('Please input a number'))\n",
    "    total=total+number\n",
    "    if number==0:\n",
    "        break\n",
    "print(total)"
   ]
  },
  {
   "cell_type": "code",
   "execution_count": null,
   "metadata": {},
   "outputs": [],
   "source": [
    "#Task2\n",
    "year=int(input('what year were you born?'))\n",
    "if year%4==0:\n",
    "    print('You were born in a leap year')\n",
    "else:\n",
    "    print('You were not born in a leap year')\n"
   ]
  },
  {
   "cell_type": "code",
   "execution_count": null,
   "metadata": {},
   "outputs": [],
   "source": [
    "#Task3\n",
    " age=int(input('Please input your age'))\n",
    "if age<20 or age>60:\n",
    "    print('Your entence fee is 0')\n",
    "else:\n",
    "    card=input('Do you have swim card?(Y/N)')\n",
    "    if card==\"Y\":\n",
    "        print('Your entrance fee is £2.5')\n",
    "    else:\n",
    "        print('Your entrance fee is £5')\n",
    "\n",
    "     \n"
   ]
  },
  {
   "cell_type": "code",
   "execution_count": null,
   "metadata": {},
   "outputs": [],
   "source": [
    "#Task4\n",
    "Var1=int(input('Input your first number'))\n",
    "Var2=int(input('input your second number'))\n",
    "if Var1>Var2:\n",
    "    print(Var1)\n",
    "    print('The first number greater than the second number is True')\n",
    "if Var2>Var1:\n",
    "    print(Var2)"
   ]
  }
 ],
 "metadata": {
  "kernelspec": {
   "display_name": "Python 3",
   "language": "python",
   "name": "python3"
  },
  "language_info": {
   "codemirror_mode": {
    "name": "ipython",
    "version": 3
   },
   "file_extension": ".py",
   "mimetype": "text/x-python",
   "name": "python",
   "nbconvert_exporter": "python",
   "pygments_lexer": "ipython3",
   "version": "3.10.8 | packaged by conda-forge | (main, Nov 24 2022, 14:07:00) [MSC v.1916 64 bit (AMD64)]"
  },
  "orig_nbformat": 4,
  "vscode": {
   "interpreter": {
    "hash": "5a60c7202c89cf90eb4a25b1b3242a7fbf304dbef3a8e6822c6c41acdb6d7c9e"
   }
  }
 },
 "nbformat": 4,
 "nbformat_minor": 2
}
